{
  "nbformat": 4,
  "nbformat_minor": 0,
  "metadata": {
    "colab": {
      "provenance": [],
      "authorship_tag": "ABX9TyMhm12Sqyo9xQrob8cGAISi",
      "include_colab_link": true
    },
    "kernelspec": {
      "name": "python3",
      "display_name": "Python 3"
    },
    "language_info": {
      "name": "python"
    }
  },
  "cells": [
    {
      "cell_type": "markdown",
      "metadata": {
        "id": "view-in-github",
        "colab_type": "text"
      },
      "source": [
        "<a href=\"https://colab.research.google.com/github/bmill42/streaming-data/blob/main/Merging_listening_data_and_API_data.ipynb\" target=\"_parent\"><img src=\"https://colab.research.google.com/assets/colab-badge.svg\" alt=\"Open In Colab\"/></a>"
      ]
    },
    {
      "cell_type": "markdown",
      "source": [
        "# Setup\n",
        "\n",
        "Install spotipy, import the libraries we need, and set up the credentials to get data from the Spotify API. **Make sure to insert your own `client_id` and `client_secret`.**\n",
        "\n",
        "Then load the listening data. Again, replace the filepath with the path to your own data."
      ],
      "metadata": {
        "id": "N6doU6ItCkvc"
      }
    },
    {
      "cell_type": "code",
      "source": [
        "!pip install Spotipy"
      ],
      "metadata": {
        "id": "NKsKlOFW9DBl"
      },
      "execution_count": null,
      "outputs": []
    },
    {
      "cell_type": "code",
      "execution_count": null,
      "metadata": {
        "id": "JAD4ljDY8eL8"
      },
      "outputs": [],
      "source": [
        "import pandas as pd\n",
        "from google.colab import drive\n",
        "import spotipy\n",
        "from spotipy.oauth2 import SpotifyClientCredentials\n",
        "\n",
        "drive.mount('/content/drive')\n",
        "\n",
        "client_id = ''\n",
        "client_secret = ''\n",
        "\n",
        "client_credentials_manager = SpotifyClientCredentials(client_id=client_id, client_secret=client_secret)\n",
        "sp = spotipy.Spotify(client_credentials_manager=client_credentials_manager)"
      ]
    },
    {
      "cell_type": "code",
      "source": [
        "df = pd.read_json('/content/drive/MyDrive/COMPFOR 304/Data/BAM - Streaming_History_Audio_2013-2024.json')"
      ],
      "metadata": {
        "id": "8TQfxtul88Z1"
      },
      "execution_count": null,
      "outputs": []
    },
    {
      "cell_type": "markdown",
      "source": [
        "# Getting audio features"
      ],
      "metadata": {
        "id": "0ZqlEBdfCwSC"
      }
    },
    {
      "cell_type": "markdown",
      "source": [
        "I'm testing this on a subset of the rows using `head()` so I don't request 14k+ tracks' audio features.\n",
        "\n",
        "The `uri_subset` variable stores a list of all the Spotify URIs for the tracks in my dataframe."
      ],
      "metadata": {
        "id": "uC2j3BD4G3Om"
      }
    },
    {
      "cell_type": "code",
      "source": [
        "tracks_subset = df.head()\n",
        "uri_subset = tracks_subset.spotify_track_uri\n",
        "uri_subset"
      ],
      "metadata": {
        "id": "CwBCsKsl8ptf"
      },
      "execution_count": null,
      "outputs": []
    },
    {
      "cell_type": "markdown",
      "source": [
        "Now we just ask for the audio features from the API and put them in a dataframe, exactly like in the original API examples."
      ],
      "metadata": {
        "id": "SOV6HzPkHK2B"
      }
    },
    {
      "cell_type": "code",
      "source": [
        "ft = sp.audio_features(uri_subset)\n",
        "ft_df = pd.DataFrame(ft)\n",
        "ft_df"
      ],
      "metadata": {
        "id": "SbnW6Rbh8sPI"
      },
      "execution_count": null,
      "outputs": []
    },
    {
      "cell_type": "markdown",
      "source": [
        "# Merging audio features with listening data\n",
        "\n",
        "Now we **merge** the features with the listening data by asking pandas to match up the URIs in our original data with the URIs in the audio features that we downloaded."
      ],
      "metadata": {
        "id": "EFtgrKRXHS0l"
      }
    },
    {
      "cell_type": "code",
      "source": [
        "subset_merged = pd.merge(tracks_subset, ft_df, left_on='spotify_track_uri', right_on='uri')"
      ],
      "metadata": {
        "id": "KGEonFeP8vit"
      },
      "execution_count": null,
      "outputs": []
    },
    {
      "cell_type": "markdown",
      "source": [
        "Looking at the columns of the resulting table, we can see that the original columns from the listening data (timestamp, track and artist name, and so on) have been augmented with the audio features, like 'danceability' and 'speechiness'."
      ],
      "metadata": {
        "id": "U84GwR_4HiOL"
      }
    },
    {
      "cell_type": "code",
      "source": [
        "subset_merged.columns"
      ],
      "metadata": {
        "id": "jN68LTew9V5l"
      },
      "execution_count": null,
      "outputs": []
    },
    {
      "cell_type": "markdown",
      "source": [
        "There are still a lot of unneccessary columns here, so it's typically going to be best to reduce the table down to just the ones we care about."
      ],
      "metadata": {
        "id": "LqrDIY20H27y"
      }
    },
    {
      "cell_type": "code",
      "source": [
        "subset_merged[['ts', 'master_metadata_track_name', 'master_metadata_album_artist_name',\n",
        "       'master_metadata_album_album_name', 'spotify_track_uri', 'reason_end', 'danceability', 'energy', 'key', 'loudness', 'mode',\n",
        "       'speechiness', 'acousticness', 'instrumentalness', 'liveness',\n",
        "       'valence', 'tempo', 'duration_ms']]"
      ],
      "metadata": {
        "id": "uaJw9uuU9WvR"
      },
      "execution_count": null,
      "outputs": []
    }
  ]
}