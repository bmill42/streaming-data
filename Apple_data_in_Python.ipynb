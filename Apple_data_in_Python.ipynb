{
  "nbformat": 4,
  "nbformat_minor": 0,
  "metadata": {
    "colab": {
      "provenance": [],
      "toc_visible": true,
      "authorship_tag": "ABX9TyO/zV/Rh/Puu86z2wSfoYdX",
      "include_colab_link": true
    },
    "kernelspec": {
      "name": "python3",
      "display_name": "Python 3"
    },
    "language_info": {
      "name": "python"
    }
  },
  "cells": [
    {
      "cell_type": "markdown",
      "metadata": {
        "id": "view-in-github",
        "colab_type": "text"
      },
      "source": [
        "<a href=\"https://colab.research.google.com/github/bmill42/streaming-data/blob/main/Apple_data_in_Python.ipynb\" target=\"_parent\"><img src=\"https://colab.research.google.com/assets/colab-badge.svg\" alt=\"Open In Colab\"/></a>"
      ]
    },
    {
      "cell_type": "markdown",
      "source": [
        "## Import libraries and connect to Google Drive"
      ],
      "metadata": {
        "id": "3r7WSyqG6CHq"
      }
    },
    {
      "cell_type": "code",
      "source": [
        "import pandas as pd\n",
        "from google.colab import drive\n",
        "\n",
        "drive.mount('/content/drive')"
      ],
      "metadata": {
        "id": "R_olPZEo6EnY"
      },
      "execution_count": null,
      "outputs": []
    },
    {
      "cell_type": "markdown",
      "source": [
        "## Load data using pandas\n"
      ],
      "metadata": {
        "id": "ERbazvVdtWzj"
      }
    },
    {
      "cell_type": "code",
      "source": [
        "df = pd.read_csv('/content/drive/MyDrive/COMPFOR 304/Data/apple_music_test.csv')\n",
        "#df = pd.read_csv('/content/drive/MyDrive/PATH TO YOUR DATA')"
      ],
      "metadata": {
        "id": "46XTk8BDuOc4"
      },
      "execution_count": null,
      "outputs": []
    },
    {
      "cell_type": "markdown",
      "source": [
        "Split the `'Track Description'` column into separate `'Artist'` and `'Track Name'` columns."
      ],
      "metadata": {
        "id": "yK3NgkFpBlRh"
      }
    },
    {
      "cell_type": "code",
      "source": [
        "df[['Artist', 'Track Name']] = df['Track Description'].str.split(\" - \", expand=True)"
      ],
      "metadata": {
        "id": "s40X3cg5AcQX"
      },
      "execution_count": null,
      "outputs": []
    },
    {
      "cell_type": "code",
      "source": [
        "df"
      ],
      "metadata": {
        "id": "MGhEzoHXB5ci"
      },
      "execution_count": null,
      "outputs": []
    }
  ]
}