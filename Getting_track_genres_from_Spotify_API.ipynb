{
  "nbformat": 4,
  "nbformat_minor": 0,
  "metadata": {
    "colab": {
      "provenance": [],
      "toc_visible": true,
      "authorship_tag": "ABX9TyPKlcmAMNbqQZorU/MyUSL1",
      "include_colab_link": true
    },
    "kernelspec": {
      "name": "python3",
      "display_name": "Python 3"
    },
    "language_info": {
      "name": "python"
    }
  },
  "cells": [
    {
      "cell_type": "markdown",
      "metadata": {
        "id": "view-in-github",
        "colab_type": "text"
      },
      "source": [
        "<a href=\"https://colab.research.google.com/github/bmill42/streaming-data/blob/main/Getting_track_genres_from_Spotify_API.ipynb\" target=\"_parent\"><img src=\"https://colab.research.google.com/assets/colab-badge.svg\" alt=\"Open In Colab\"/></a>"
      ]
    },
    {
      "cell_type": "markdown",
      "source": [
        "# Setup\n",
        "\n",
        "Install spotipy, import the libraries we need, and set up the credentials to get data from the Spotify API. **Make sure to insert your own `client_id` and `client_secret`.**\n",
        "\n",
        "Then load the listening data. Again, replace the filepath with the path to your own data."
      ],
      "metadata": {
        "id": "N6doU6ItCkvc"
      }
    },
    {
      "cell_type": "code",
      "source": [
        "!pip install Spotipy"
      ],
      "metadata": {
        "id": "NKsKlOFW9DBl"
      },
      "execution_count": null,
      "outputs": []
    },
    {
      "cell_type": "code",
      "execution_count": null,
      "metadata": {
        "id": "JAD4ljDY8eL8"
      },
      "outputs": [],
      "source": [
        "import pandas as pd\n",
        "from google.colab import drive\n",
        "import spotipy\n",
        "from spotipy.oauth2 import SpotifyClientCredentials\n",
        "\n",
        "drive.mount('/content/drive')\n",
        "\n",
        "client_id = ''\n",
        "client_secret = ''\n",
        "\n",
        "client_credentials_manager = SpotifyClientCredentials(client_id=client_id, client_secret=client_secret)\n",
        "sp = spotipy.Spotify(client_credentials_manager=client_credentials_manager)"
      ]
    },
    {
      "cell_type": "markdown",
      "source": [
        "**NOTE:** if you're using Apple Music data, skip this cell and move on to \"Getting Features for Apple Music Data\" below."
      ],
      "metadata": {
        "id": "ME-ierqbRdxU"
      }
    },
    {
      "cell_type": "code",
      "source": [
        "df = pd.read_json('/content/drive/MyDrive/COMPFOR 304/Data/BAM - Streaming_History_Audio_2013-2024.json')"
      ],
      "metadata": {
        "id": "8TQfxtul88Z1"
      },
      "execution_count": null,
      "outputs": []
    },
    {
      "cell_type": "markdown",
      "source": [
        "# Getting genres"
      ],
      "metadata": {
        "id": "0ZqlEBdfCwSC"
      }
    },
    {
      "cell_type": "markdown",
      "source": [
        "We'll test this on a subset of the rows using `head()` so we don't request 14k+ tracks' genres.\n",
        "\n",
        "The `uri_subset` variable stores a list of all the Spotify URIs for the tracks in the dataframe. Since many tracks will appear multiple times in the full dataset, we can drop duplicates here so we only request each song's features once."
      ],
      "metadata": {
        "id": "uC2j3BD4G3Om"
      }
    },
    {
      "cell_type": "code",
      "source": [
        "tracks_subset = df.head() # replace tracks_subset with your own data\n",
        "uri_subset = tracks_subset.spotify_track_uri.drop_duplicates()\n",
        "uri_subset"
      ],
      "metadata": {
        "id": "CwBCsKsl8ptf"
      },
      "execution_count": null,
      "outputs": []
    },
    {
      "cell_type": "markdown",
      "source": [
        "We need to get the artists for each track, then get the genres for each artist, then merge that information back to the track URIs.\n",
        "\n",
        "First we ask for the track info from the API, which will contain the artists for the track."
      ],
      "metadata": {
        "id": "SOV6HzPkHK2B"
      }
    },
    {
      "cell_type": "code",
      "source": [
        "tracks = sp.tracks(uri_subset)"
      ],
      "metadata": {
        "id": "SbnW6Rbh8sPI"
      },
      "execution_count": null,
      "outputs": []
    },
    {
      "cell_type": "markdown",
      "source": [
        "Now we put together a table that contains only the track URIs and the artist URIs, so we don't lose track of which ones go together."
      ],
      "metadata": {
        "id": "FJZ406ZqhDjp"
      }
    },
    {
      "cell_type": "code",
      "source": [
        "artist_lists = [d['artists'] for d in tracks['tracks']]\n",
        "track_uris = [d['uri'] for d in tracks['tracks']]\n",
        "artist_ids = []\n",
        "\n",
        "for tn in range(len(artist_lists)):\n",
        "    for a in artist_lists[tn]:\n",
        "        artist_ids.append({'track_uri': track_uris[tn], 'artist_uri': a['uri']}) # 'track_uri': track_uris[tn],"
      ],
      "metadata": {
        "id": "9qSE0zWtXMQs"
      },
      "execution_count": null,
      "outputs": []
    },
    {
      "cell_type": "code",
      "source": [
        "track_artist_uris = pd.DataFrame(artist_ids)\n",
        "track_artist_uris"
      ],
      "metadata": {
        "id": "IiygCp7mcUTF"
      },
      "execution_count": null,
      "outputs": []
    },
    {
      "cell_type": "markdown",
      "source": [
        "Now we can ask the API for the info for each artist using the `artist_uri` column."
      ],
      "metadata": {
        "id": "guwPmlJYiMxM"
      }
    },
    {
      "cell_type": "code",
      "source": [
        "artist_info = sp.artists(track_artist_uris.artist_uri)"
      ],
      "metadata": {
        "id": "2JQX2xetdNUS"
      },
      "execution_count": null,
      "outputs": []
    },
    {
      "cell_type": "markdown",
      "source": [
        "Next we pull the genres out of the API data and create a new table that links artist URIs to their lists of genres."
      ],
      "metadata": {
        "id": "nDLi6R4llPSM"
      }
    },
    {
      "cell_type": "code",
      "source": [
        "artists_genres = [{'artist_uri': a['uri'], 'genres': a['genres']} for a in artist_info['artists']]\n",
        "genres_table = pd.DataFrame(artists_genres).drop_duplicates('artist_uri')\n",
        "genres_table"
      ],
      "metadata": {
        "id": "9wtqRrDcdjY5"
      },
      "execution_count": null,
      "outputs": []
    },
    {
      "cell_type": "markdown",
      "source": [
        "Now we just merge the genres onto the track URIs using the artist URIs."
      ],
      "metadata": {
        "id": "Ddsd9t7mlW8u"
      }
    },
    {
      "cell_type": "code",
      "source": [
        "tracks_with_genres = pd.merge(track_artist_uris, genres_table, how='left', on='artist_uri')\n",
        "tracks_with_genres"
      ],
      "metadata": {
        "id": "6Q6XqsatdaC7"
      },
      "execution_count": null,
      "outputs": []
    },
    {
      "cell_type": "markdown",
      "source": [
        "# Finalizing the table and cleaning up the genre data"
      ],
      "metadata": {
        "id": "kXajvYy0pzS6"
      }
    },
    {
      "cell_type": "markdown",
      "source": [
        "From here, we can merge the genres back into the larger dataset. Note that the column name for the track URI is different in the two tables even though they contain the same information, so we can use `left_on` and `right_on` arguments for the merge.\n",
        "\n",
        "The resulting table looks exactly like our original dataset, but with both artist URIs and genres added!\n",
        "\n",
        "**Note**, however, that we now have multiple copies of tracks that had multiple artists. You may want to keep only the first instance of each timestamped entry, which would keep only one artist per track. Whether you want to do this depends on your goals."
      ],
      "metadata": {
        "id": "cyorkQJDlfW1"
      }
    },
    {
      "cell_type": "code",
      "source": [
        "full_table = pd.merge(tracks_subset, tracks_with_genres, left_on='spotify_track_uri', right_on='track_uri')\n",
        "full_table.drop_duplicates('ts')"
      ],
      "metadata": {
        "id": "3gVm85NelkYS"
      },
      "execution_count": null,
      "outputs": []
    },
    {
      "cell_type": "markdown",
      "source": [
        "Another issue is that the genres are in the form of a Python list. You may want to pull out just the first genre from each list:"
      ],
      "metadata": {
        "id": "xbZ_ETtSplMP"
      }
    },
    {
      "cell_type": "code",
      "source": [
        "full_table['primary_genre'] = full_table.genres.str[0]\n",
        "full_table"
      ],
      "metadata": {
        "id": "0C9dDTF2lwog"
      },
      "execution_count": null,
      "outputs": []
    },
    {
      "cell_type": "code",
      "source": [],
      "metadata": {
        "id": "1itxsMgzo4ou"
      },
      "execution_count": null,
      "outputs": []
    }
  ]
}